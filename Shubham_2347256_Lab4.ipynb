{
  "nbformat": 4,
  "nbformat_minor": 0,
  "metadata": {
    "colab": {
      "provenance": []
    },
    "kernelspec": {
      "name": "python3",
      "display_name": "Python 3"
    },
    "language_info": {
      "name": "python"
    }
  },
  "cells": [
    {
      "cell_type": "markdown",
      "source": [
        "#Data Preperation"
      ],
      "metadata": {
        "id": "mEMByWxLd05S"
      }
    },
    {
      "cell_type": "code",
      "execution_count": 4,
      "metadata": {
        "id": "1Mhu-IOJYC3s"
      },
      "outputs": [],
      "source": [
        "import tensorflow as tf\n",
        "import numpy as np\n",
        "import tensorflow_datasets as tfds\n",
        "\n",
        "# Load and preprocess the Kuzushiji MNIST dataset\n",
        "def load_and_preprocess_data():\n",
        "    (train_data, test_data), ds_info = tfds.load('kmnist', split=['train', 'test'], shuffle_files=True, as_supervised=True, with_info=True)\n",
        "\n",
        "    # Normalize images and flatten them to vectors of size 784 (28x28)\n",
        "    def preprocess(image, label):\n",
        "        image = tf.cast(image, tf.float32) / 255.0\n",
        "        image = tf.reshape(image, [-1])\n",
        "        return image, label\n",
        "\n",
        "    train_data = train_data.map(preprocess).batch(1024)\n",
        "    test_data = test_data.map(preprocess).batch(1024)\n",
        "\n",
        "    def extract_data(dataset):\n",
        "        images, labels = [], []\n",
        "        for image, label in dataset:\n",
        "            images.append(image.numpy())\n",
        "            labels.append(label.numpy())\n",
        "        return np.concatenate(images), np.concatenate(labels)\n",
        "\n",
        "    train_images, train_labels = extract_data(train_data)\n",
        "    test_images, test_labels = extract_data(test_data)\n",
        "\n",
        "    return train_images, train_labels, test_images, test_labels\n",
        "\n",
        "train_images, train_labels, test_images, test_labels = load_and_preprocess_data()\n",
        "\n",
        "split_index = int(0.8 * len(train_images))\n",
        "X_train, X_val = train_images[:split_index], train_images[split_index:]\n",
        "y_train, y_val = train_labels[:split_index], train_labels[split_index:]\n",
        "\n",
        "from tensorflow.keras.utils import to_categorical\n",
        "y_train_oh = to_categorical(y_train, 10)\n",
        "y_val_oh = to_categorical(y_val, 10)\n",
        "y_test_oh = to_categorical(test_labels, 10)\n"
      ]
    },
    {
      "cell_type": "markdown",
      "source": [
        "#Radial Basis Function (RBF) Network\n"
      ],
      "metadata": {
        "id": "rbQ-_7klfBX3"
      }
    },
    {
      "cell_type": "code",
      "source": [
        "from sklearn.cluster import KMeans\n",
        "import numpy as np\n",
        "\n",
        "class RBFNetwork:\n",
        "    def __init__(self, input_dim, num_rbf_units, output_dim):\n",
        "        self.input_dim = input_dim\n",
        "        self.num_rbf_units = num_rbf_units\n",
        "        self.output_dim = output_dim\n",
        "        self.centers = None\n",
        "        self.weights = np.random.randn(self.num_rbf_units, self.output_dim)\n",
        "        self.beta = 1.0\n",
        "\n",
        "    # Gaussian radial basis function\n",
        "    def gaussian_rbf(self, X, center):\n",
        "        return np.exp(-self.beta * np.linalg.norm(X - center, axis=1) ** 2)\n",
        "\n",
        "    # RBF layer to compute activations\n",
        "    def rbf_layer(self, X):\n",
        "        rbf_outputs = np.array([self.gaussian_rbf(X, c) for c in self.centers])\n",
        "        return rbf_outputs.T  # Transpose to match (num_samples, num_rbf_units)\n",
        "\n",
        "    # Softmax function for output layer\n",
        "    def softmax(self, X):\n",
        "        exp_scores = np.exp(X - np.max(X, axis=1, keepdims=True))\n",
        "        return exp_scores / np.sum(exp_scores, axis=1, keepdims=True)\n",
        "\n",
        "    # Forward pass through the RBF network\n",
        "    def forward(self, X):\n",
        "        rbf_out = self.rbf_layer(X)\n",
        "        output = np.dot(rbf_out, self.weights)\n",
        "        return self.softmax(output)\n",
        "\n",
        "    # Initialize centers using K-means clustering\n",
        "    def kmeans_centers(self, X):\n",
        "        kmeans = KMeans(n_clusters=self.num_rbf_units, random_state=0).fit(X)\n",
        "        self.centers = kmeans.cluster_centers_\n",
        "\n",
        "    # Loss function (cross-entropy)\n",
        "    def compute_loss(self, output, y_true):\n",
        "        m = y_true.shape[0]\n",
        "        log_likelihood = -np.log(output[range(m), y_true])\n",
        "        loss = np.sum(log_likelihood) / m\n",
        "        return loss\n",
        "\n",
        "    # Compute the gradient of the loss with respect to weights\n",
        "    def compute_gradient(self, X, rbf_out, output, y_true):\n",
        "        m = y_true.shape[0]\n",
        "        delta = output\n",
        "        delta[range(m), y_true] -= 1\n",
        "        dW = np.dot(rbf_out.T, delta) / m\n",
        "        return dW\n",
        "\n",
        "    # Training function with gradient descent\n",
        "    def train(self, X, y, epochs=100, learning_rate=0.01):\n",
        "        self.kmeans_centers(X)  # Initialize centers using K-means\n",
        "        for epoch in range(epochs):\n",
        "            rbf_out = self.rbf_layer(X)\n",
        "            output = np.dot(rbf_out, self.weights)\n",
        "            softmax_output = self.softmax(output)\n",
        "\n",
        "            loss = self.compute_loss(softmax_output, y)\n",
        "            grad_weights = self.compute_gradient(X, rbf_out, softmax_output, y)\n",
        "\n",
        "            # Update weights using gradient descent\n",
        "            self.weights -= learning_rate * grad_weights\n",
        "\n",
        "            if epoch % 10 == 0:\n",
        "                print(f'Epoch {epoch}, Loss: {loss}')\n"
      ],
      "metadata": {
        "id": "2CGljKp7fEFC"
      },
      "execution_count": 8,
      "outputs": []
    },
    {
      "cell_type": "markdown",
      "source": [
        "\n",
        "#Train the RBF Network"
      ],
      "metadata": {
        "id": "CG2N_YIciUzR"
      }
    },
    {
      "cell_type": "markdown",
      "source": [],
      "metadata": {
        "id": "5me8uQaniUkM"
      }
    },
    {
      "cell_type": "code",
      "source": [
        "# Initialize and train the RBF network\n",
        "rbf_net = RBFNetwork(input_dim=784, num_rbf_units=10, output_dim=10)\n",
        "rbf_net.train(X_train, y_train, epochs=100, learning_rate=0.01)\n"
      ],
      "metadata": {
        "colab": {
          "base_uri": "https://localhost:8080/"
        },
        "id": "fiseuM6YhzbF",
        "outputId": "f50afd9c-e670-47e4-a559-e492a4350de6"
      },
      "execution_count": 9,
      "outputs": [
        {
          "output_type": "stream",
          "name": "stdout",
          "text": [
            "Epoch 0, Loss: 2.302585092994047\n",
            "Epoch 10, Loss: 2.302585092994047\n",
            "Epoch 20, Loss: 2.302585092994047\n",
            "Epoch 30, Loss: 2.302585092994047\n",
            "Epoch 40, Loss: 2.302585092994047\n",
            "Epoch 50, Loss: 2.302585092994047\n",
            "Epoch 60, Loss: 2.302585092994047\n",
            "Epoch 70, Loss: 2.302585092994047\n",
            "Epoch 80, Loss: 2.302585092994047\n",
            "Epoch 90, Loss: 2.302585092994047\n"
          ]
        }
      ]
    },
    {
      "cell_type": "markdown",
      "source": [
        "#Evaluate the Model"
      ],
      "metadata": {
        "id": "TmGxCHniiiGu"
      }
    },
    {
      "cell_type": "code",
      "source": [
        "from sklearn.metrics import accuracy_score, confusion_matrix\n",
        "import matplotlib.pyplot as plt\n",
        "import seaborn as sns\n",
        "\n",
        "test_pred = rbf_net.forward(test_images)\n",
        "test_pred_labels = np.argmax(test_pred, axis=1)\n",
        "\n",
        "accuracy = accuracy_score(test_labels, test_pred_labels)\n",
        "print(f'Test Accuracy: {accuracy * 100:.2f}%')\n",
        "\n",
        "conf_matrix = confusion_matrix(test_labels, test_pred_labels)\n",
        "print(\"Confusion Matrix:\")\n",
        "print(conf_matrix)\n",
        "\n",
        "plt.figure(figsize=(10, 7))\n",
        "sns.heatmap(conf_matrix, annot=True, fmt='d', cmap='Blues')\n",
        "plt.title('Confusion Matrix')\n",
        "plt.xlabel('Predicted Labels')\n",
        "plt.ylabel('True Labels')\n",
        "plt.show()\n"
      ],
      "metadata": {
        "colab": {
          "base_uri": "https://localhost:8080/",
          "height": 849
        },
        "id": "-yPkn8I_imv7",
        "outputId": "229a1d4f-1cbd-4db3-b155-c9e82365edc9"
      },
      "execution_count": 10,
      "outputs": [
        {
          "output_type": "stream",
          "name": "stdout",
          "text": [
            "Test Accuracy: 10.36%\n",
            "Confusion Matrix:\n",
            "[[ 999    1    0    0    0    0    0    0    0    0]\n",
            " [ 902   30    0   68    0    0    0    0    0    0]\n",
            " [ 936    9    0   55    0    0    0    0    0    0]\n",
            " [ 983    1    1    4    0   11    0    0    0    0]\n",
            " [ 977    6    1   16    0    0    0    0    0    0]\n",
            " [ 938   11    0   40    8    3    0    0    0    0]\n",
            " [ 848   30    0  122    0    0    0    0    0    0]\n",
            " [1000    0    0    0    0    0    0    0    0    0]\n",
            " [ 941   11    4   44    0    0    0    0    0    0]\n",
            " [ 993    0    0    7    0    0    0    0    0    0]]\n"
          ]
        },
        {
          "output_type": "display_data",
          "data": {
            "text/plain": [
              "<Figure size 1000x700 with 2 Axes>"
            ],
            "image/png": "[encoded data removed]"
          },
          "metadata": {}
        }
      ]
    },
    {
      "cell_type": "markdown",
      "source": [
        "#Analysis"
      ],
      "metadata": {
        "id": "11A9hK55iyru"
      }
    },
    {
      "cell_type": "code",
      "source": [
        "# Analysis of strengths and limitations of RBF Network\n",
        "print(\"\"\"\n",
        "Strengths of RBF Network:\n",
        "- The RBF network is inherently good at handling non-linear data, which helps classify complex datasets.\n",
        "- It can approximate any function with enough RBF units, making it a powerful model for many types of classification tasks.\n",
        "\n",
        "Limitations:\n",
        "- The choice of the number of RBF units has a significant impact on performance.\n",
        "- The model can be sensitive to the distribution of centers, which may lead to suboptimal results if the K-Means algorithm does not find appropriate centers.\n",
        "- The training process with gradient descent can be slow, especially for large datasets.\n",
        "\"\"\")\n",
        "\n",
        "# Discuss the impact of RBF units\n",
        "print(\"\"\"\n",
        "Increasing the number of RBF units typically improves the network's ability to fit the data, but it may also lead to overfitting, especially on smaller datasets.\n",
        "A good balance between the number of RBF units and regularization should be found to achieve optimal performance.\n",
        "\"\"\")\n"
      ],
      "metadata": {
        "colab": {
          "base_uri": "https://localhost:8080/"
        },
        "id": "SNR7fx2ei3Gj",
        "outputId": "afeb19e7-4cbc-4d2b-9d16-136f6b708483"
      },
      "execution_count": 11,
      "outputs": [
        {
          "output_type": "stream",
          "name": "stdout",
          "text": [
            "\n",
            "Strengths of RBF Network:\n",
            "- The RBF network is inherently good at handling non-linear data, which helps classify complex datasets.\n",
            "- It can approximate any function with enough RBF units, making it a powerful model for many types of classification tasks.\n",
            "\n",
            "Limitations:\n",
            "- The choice of the number of RBF units has a significant impact on performance.\n",
            "- The model can be sensitive to the distribution of centers, which may lead to suboptimal results if the K-Means algorithm does not find appropriate centers.\n",
            "- The training process with gradient descent can be slow, especially for large datasets.\n",
            "\n",
            "\n",
            "Increasing the number of RBF units typically improves the network's ability to fit the data, but it may also lead to overfitting, especially on smaller datasets.\n",
            "A good balance between the number of RBF units and regularization should be found to achieve optimal performance.\n",
            "\n"
          ]
        }
      ]
    }
  ]
}